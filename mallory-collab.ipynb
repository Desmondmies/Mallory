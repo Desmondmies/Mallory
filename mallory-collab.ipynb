{
  "nbformat": 4,
  "nbformat_minor": 0,
  "metadata": {
    "colab": {
      "provenance": [],
      "gpuType": "T4",
      "include_colab_link": true
    },
    "kernelspec": {
      "name": "python3",
      "display_name": "Python 3"
    },
    "language_info": {
      "name": "python"
    },
    "accelerator": "GPU"
  },
  "cells": [
    {
      "cell_type": "markdown",
      "metadata": {
        "id": "view-in-github",
        "colab_type": "text"
      },
      "source": [
        "<a href=\"https://colab.research.google.com/github/Desmondmies/Mallory/blob/main/mallory-collab.ipynb\" target=\"_parent\"><img src=\"https://colab.research.google.com/assets/colab-badge.svg\" alt=\"Open In Colab\"/></a>"
      ]
    },
    {
      "cell_type": "code",
      "source": [
        "!pip install unidecode\n",
        "\n"
      ],
      "metadata": {
        "colab": {
          "base_uri": "https://localhost:8080/"
        },
        "id": "By9edMeQJ8F8",
        "outputId": "8b03b037-0810-45e7-d900-889168db291a"
      },
      "execution_count": null,
      "outputs": [
        {
          "output_type": "stream",
          "name": "stdout",
          "text": [
            "Collecting unidecode\n",
            "  Downloading Unidecode-1.3.7-py3-none-any.whl (235 kB)\n",
            "\u001b[2K     \u001b[90m━━━━━━━━━━━━━━━━━━━━━━━━━━━━━━━━━━━━━━━━\u001b[0m \u001b[32m235.5/235.5 kB\u001b[0m \u001b[31m5.3 MB/s\u001b[0m eta \u001b[36m0:00:00\u001b[0m\n",
            "\u001b[?25hInstalling collected packages: unidecode\n",
            "Successfully installed unidecode-1.3.7\n"
          ]
        }
      ]
    },
    {
      "cell_type": "code",
      "execution_count": null,
      "metadata": {
        "id": "5yHPzeOIN8ib"
      },
      "outputs": [],
      "source": [
        "import torch\n",
        "import torch.nn as nn\n",
        "import matplotlib.pyplot as plt\n",
        "from unidecode import unidecode"
      ]
    },
    {
      "cell_type": "code",
      "source": [
        "X = !curl \"https://files.vermeille.fr/hp.txt\" -o -\n",
        "X_txt = '\\n'.join(X)\n",
        "print(X_txt[:250])"
      ],
      "metadata": {
        "id": "wpaA-juwN-7X",
        "colab": {
          "base_uri": "https://localhost:8080/"
        },
        "outputId": "3398289b-52d3-4110-ca29-5ffdab65b513"
      },
      "execution_count": null,
      "outputs": [
        {
          "output_type": "stream",
          "name": "stdout",
          "text": [
            "[]\n",
            "\n",
            "[cover]\n",
            "\n",
            "J.K.ROWLING\n",
            "\n",
            "Harry Potter\n",
            "\n",
            "à l'Ecole des Sorciers\n",
            "\n",
            "Traduit de l'anglais\n",
            "\n",
            "par Jean-François Ménard\n",
            "\n",
            "[]\n",
            "\n",
            "GALLIMARD\n",
            "\n",
            "Rev 2, 16/12/2010\n",
            "\n",
            "Pour Jessica, qui adore les histoires,\n",
            "\n",
            "pour Anne, qui les adorait aussi\n",
            "\n",
            "et pour Di, qui a été la premi\n"
          ]
        }
      ]
    },
    {
      "cell_type": "code",
      "source": [
        "X = unidecode(X_txt)\n",
        "X = torch.tensor(list(map(ord, X)), dtype=torch.long)\n",
        "print(X[:10], len(X)), torch.any(X >= 128)"
      ],
      "metadata": {
        "colab": {
          "base_uri": "https://localhost:8080/"
        },
        "id": "NJzj_5taOLre",
        "outputId": "a9d3ad4b-6fed-43b8-e89d-0d4cd320994c"
      },
      "execution_count": null,
      "outputs": [
        {
          "output_type": "stream",
          "name": "stdout",
          "text": [
            "tensor([ 91,  93,  10,  10,  91,  99, 111, 118, 101, 114]) 7803296\n"
          ]
        },
        {
          "output_type": "execute_result",
          "data": {
            "text/plain": [
              "(None, tensor(False))"
            ]
          },
          "metadata": {},
          "execution_count": 8
        }
      ]
    },
    {
      "cell_type": "code",
      "source": [
        "# we don't define a testset. The model is wayyy too trivial to overfit."
      ],
      "metadata": {
        "id": "WguHOQ1qOjGn"
      },
      "execution_count": null,
      "outputs": []
    },
    {
      "cell_type": "code",
      "source": [
        "class Concat(nn.Module):\n",
        "    def forward(self, x):\n",
        "        return x.view(x.shape[0], -1)\n",
        "\n",
        "def make_nn(input_features, context_size, hidden_features, output_features):\n",
        "    return nn.Sequential(\n",
        "        nn.Embedding(128, input_features),\n",
        "        Concat(),\n",
        "        nn.Linear(input_features * context_size, hidden_features),\n",
        "        nn.ReLU(),\n",
        "        nn.Linear(hidden_features, hidden_features),\n",
        "        nn.ReLU(),\n",
        "        nn.Linear(hidden_features, hidden_features),\n",
        "        nn.ReLU(),\n",
        "        nn.Linear(hidden_features, output_features)\n",
        "    )\n",
        "\n",
        "batch_size=512\n",
        "context_size=8\n",
        "device='cuda'\n",
        "m = make_nn(32, context_size, 512, 128).to(device)\n",
        "\n",
        "loss_fn = nn.CrossEntropyLoss()\n",
        "\n",
        "opt = torch.optim.AdamW(m.parameters(), lr=3e-4, weight_decay=0.01)\n",
        "losses = []\n",
        "for epoch in range(500):\n",
        "\n",
        "    with torch.no_grad():\n",
        "      print('----')\n",
        "      for num_completions in range(5):\n",
        "          s = \"\\nAujourd'hui\"[:context_size]\n",
        "          for txt_len in range(64):\n",
        "              as_tensor = torch.tensor(list(map(ord, s[-context_size:]))).cuda()\n",
        "              logits = m(as_tensor.unsqueeze(0))\n",
        "              probs = torch.softmax(logits, dim=1)\n",
        "              new = torch.multinomial(probs, num_samples=1)\n",
        "              s += chr(new.item())\n",
        "              del as_tensor\n",
        "          print(repr(s))\n",
        "\n",
        "    # we train here\n",
        "    train_error = 0\n",
        "    for _ in range(1000):\n",
        "        letters = torch.stack([\n",
        "            X[rnd : rnd + context_size + 1]\n",
        "            for rnd in torch.randint(0, len(X) - context_size - 1, (batch_size,))\n",
        "        ]).to(device)\n",
        "        x = letters[:, :-1]\n",
        "        y = letters[:, -1]\n",
        "\n",
        "        opt.zero_grad()\n",
        "        pred = m(x) # [batch, in_features] => [batch, out_features]\n",
        "        loss = loss_fn(pred, y)\n",
        "        loss.backward()\n",
        "        train_error += loss.item()\n",
        "        opt.step()\n",
        "    print((epoch+1)*context_size*batch_size, 'k chars | train', train_error / 1000/batch_size)\n",
        "    losses.append(train_error/1000/batch_size)\n",
        "\n",
        "    # We test here"
      ],
      "metadata": {
        "id": "PdH4dj7QPQjx"
      },
      "execution_count": null,
      "outputs": []
    },
    {
      "cell_type": "code",
      "source": [
        "plt.plot([l for l in losses])\n",
        "plt.show()"
      ],
      "metadata": {
        "colab": {
          "base_uri": "https://localhost:8080/",
          "height": 430
        },
        "id": "RSDHUfggYhok",
        "outputId": "f42104a2-bc42-45e5-edde-23ecd233b4f3"
      },
      "execution_count": null,
      "outputs": [
        {
          "output_type": "display_data",
          "data": {
            "text/plain": [
              "<Figure size 640x480 with 1 Axes>"
            ],
            "image/png": "[encoded data removed]"
          },
          "metadata": {}
        }
      ]
    },
    {
      "cell_type": "code",
      "source": [],
      "metadata": {
        "id": "2Zdhil9ZXZa6"
      },
      "execution_count": null,
      "outputs": []
    }
  ]
}