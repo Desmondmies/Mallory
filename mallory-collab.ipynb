{
  "nbformat": 4,
  "nbformat_minor": 0,
  "metadata": {
    "colab": {
      "provenance": [],
      "gpuType": "T4"
    },
    "kernelspec": {
      "name": "python3",
      "display_name": "Python 3"
    },
    "language_info": {
      "name": "python"
    },
    "accelerator": "GPU"
  },
  "cells": [
    {
      "cell_type": "code",
      "source": [
        "!pip install unidecode\n",
        "!pip install transformers==4.36.2\n",
        "\n",
        "import torch\n",
        "from torch.utils.data import Dataset, DataLoader, random_split\n",
        "from torch.optim import AdamW\n",
        "from transformers import pipeline, CamembertForCausalLM, AutoTokenizer, CONFIG_MAPPING, GPT2LMHeadModel\n",
        "import os\n",
        "from unidecode import unidecode\n",
        "import string\n",
        "import time\n",
        "from datetime import timedelta\n",
        "from matplotlib import pyplot as plt\n",
        "\n",
        "config = CONFIG_MAPPING[\"camembert\"](vocab_size=32005)\n",
        "\n",
        "# --- DATASET ---\n",
        "def get_text_data(root_dir):\n",
        "    print(\"preparing data...\")\n",
        "    text_data = []\n",
        "    for subdir, dirs, files in os.walk(root_dir):\n",
        "        for file in files:\n",
        "            if file.endswith('.txt') or file.endswith('.epub'):\n",
        "                with open(os.path.join(subdir, file), 'r', encoding='utf-8') as f:\n",
        "                    text_data.extend(f.read().split())\n",
        "    # remove accents\n",
        "    text_data = [unidecode(text) for text in text_data]\n",
        "    # remove punctuation\n",
        "    SYMBOLS = string.punctuation.replace('-', '').replace(\"'\", \"\")\n",
        "    text_data = [text.translate({ord(i): None for i in SYMBOLS}) for text in text_data]\n",
        "    # split into more words where there is \"-\" or \"'\"\n",
        "    tmp = []\n",
        "    for txt in text_data:\n",
        "        if \"-\" in txt:\n",
        "            sp = list(filter(lambda x: len(x) > 1, txt.split(\"-\")))\n",
        "            tmp.extend(sp)\n",
        "        elif \"'\" in txt:\n",
        "            sp = list(filter(lambda x: len(x) > 1, txt.split(\"'\")))\n",
        "            tmp.extend(sp)\n",
        "        else:\n",
        "            if txt == \"h\": txt = \"heures\"\n",
        "            elif txt == \"g\": txt = \"grammes\"\n",
        "            elif txt == \"c\": continue\n",
        "            tmp.append(txt)\n",
        "    text_data = tmp\n",
        "    # remove empty lines\n",
        "    text_data = list(filter(lambda x: x != \"\", text_data))\n",
        "    # lowercase\n",
        "    text_data = [text.lower() for text in text_data]\n",
        "    # write it in output file\n",
        "    with open(\"cuisine-dataset.txt\", \"w\", encoding=\"utf-8\") as f:\n",
        "        f.write(\"\\n\".join(text_data))\n",
        "    print(\"data prepared! -> cuisine-dataset.txt\")\n",
        "    return text_data\n",
        "\n",
        "def load_dataset(train_set_ratio=0.8, validation_set_ratio=0.1, test_set_ratio=0.1):\n",
        "    with open(\"cuisine-dataset.txt\", \"r\", encoding=\"utf-8\") as f:\n",
        "        data = f.read().splitlines()\n",
        "    print(\"data loaded!\")\n",
        "    return random_split(data, [train_set_ratio, validation_set_ratio, test_set_ratio])\n",
        "\n",
        "# --- TRAINING ---\n",
        "def train():\n",
        "    tokenizer = AutoTokenizer.from_pretrained(\"camembert-base\")\n",
        "    device = torch.device(\"cuda\" if torch.cuda.is_available() else \"cpu\")\n",
        "    model = CamembertForCausalLM(config).to(device)\n",
        "    model.init_weights()\n",
        "    optimizer = AdamW(model.parameters(), lr=learning_rate)\n",
        "    print(f\"training for {num_epochs} epochs...\")\n",
        "    start_time = time.time()\n",
        "    losses = []\n",
        "    for epoch in range(num_epochs):\n",
        "        train_err = 0\n",
        "        print(f\"epoch : {epoch+1}\")\n",
        "        for batch in train_loader:\n",
        "            inputs = tokenizer(batch, return_tensors=\"pt\", padding=True, truncation=True, is_split_into_words=True)\n",
        "            model.to(device)\n",
        "            inputs = {k: v.to(device) for k, v in inputs.items()}\n",
        "            outputs = model(**inputs, labels=inputs[\"input_ids\"])\n",
        "            loss = outputs.loss\n",
        "            optimizer.zero_grad()\n",
        "            loss.backward()\n",
        "            train_err += loss.item()\n",
        "            optimizer.step()\n",
        "        model.to(\"cpu\")\n",
        "        losses.append(train_err/1000/batch_size)\n",
        "    completion_time = time.time()\n",
        "    print(f\"training completion in {timedelta(seconds=completion_time - start_time)}\")\n",
        "    model.save_pretrained(\"my_model\")\n",
        "    tokenizer.save_pretrained(\"my_model\")\n",
        "    print(\"training done.\\n\")\n",
        "    return losses\n",
        "\n",
        "# --- USING MODEL ---\n",
        "def generate_output():\n",
        "    global config\n",
        "    config.is_decoder = True\n",
        "    prompt = \"dessert au \"\n",
        "    tokenizer = AutoTokenizer.from_pretrained(\"my_model\")\n",
        "    model = CamembertForCausalLM.from_pretrained(\"my_model\", config=config)\n",
        "    model.eval()\n",
        "    pipe = pipeline(\"text-generation\", model=model, tokenizer=tokenizer, config=config)\n",
        "    pipeline_output = pipe(prompt, max_length=30, do_sample=True, top_k=100, top_p=0.95)\n",
        "    return pipeline_output[0][\"generated_text\"]\n",
        "\n",
        "def show_losses(losses):\n",
        "    plt.plot([l for l in losses])\n",
        "    plt.show()\n",
        "\n",
        "if __name__ == \"__main__\":\n",
        "    num_epochs = 3\n",
        "    batch_size = 16\n",
        "    learning_rate = 3e-4\n",
        "    train_ratio = 0.05\n",
        "    validation_ratio = 0.1\n",
        "    test_ratio = 1 - train_ratio - validation_ratio\n",
        "    train_set, validation_set, test_set = load_dataset(train_ratio, validation_ratio, test_ratio)\n",
        "    print(f\"taille train set : {len(train_set)}\")\n",
        "    print(f\"taille validation set : {len(validation_set)}\")\n",
        "    print(f\"taille test set : {len(test_set)}\")\n",
        "    train_loader = DataLoader(train_set, batch_size=batch_size, shuffle=True)\n",
        "    validation_loader = DataLoader(validation_set, batch_size=batch_size, shuffle=False)\n",
        "    test_loader = DataLoader(test_set, batch_size=batch_size, shuffle=False)\n",
        "    losses = train()\n",
        "    generate_output()\n",
        "    show_losses(losses)"
      ],
      "metadata": {
        "id": "H2VUPfSS7JOt",
        "outputId": "0e1c2d23-6d6d-4284-8af4-09fc94dc52a6",
        "colab": {
          "base_uri": "https://localhost:8080/",
          "height": 974
        }
      },
      "execution_count": 11,
      "outputs": [
        {
          "output_type": "stream",
          "name": "stdout",
          "text": [
            "Requirement already satisfied: unidecode in /usr/local/lib/python3.10/dist-packages (1.3.8)\n",
            "Requirement already satisfied: transformers==4.36.2 in /usr/local/lib/python3.10/dist-packages (4.36.2)\n",
            "Requirement already satisfied: filelock in /usr/local/lib/python3.10/dist-packages (from transformers==4.36.2) (3.13.1)\n",
            "Requirement already satisfied: huggingface-hub<1.0,>=0.19.3 in /usr/local/lib/python3.10/dist-packages (from transformers==4.36.2) (0.20.3)\n",
            "Requirement already satisfied: numpy>=1.17 in /usr/local/lib/python3.10/dist-packages (from transformers==4.36.2) (1.23.5)\n",
            "Requirement already satisfied: packaging>=20.0 in /usr/local/lib/python3.10/dist-packages (from transformers==4.36.2) (23.2)\n",
            "Requirement already satisfied: pyyaml>=5.1 in /usr/local/lib/python3.10/dist-packages (from transformers==4.36.2) (6.0.1)\n",
            "Requirement already satisfied: regex!=2019.12.17 in /usr/local/lib/python3.10/dist-packages (from transformers==4.36.2) (2023.6.3)\n",
            "Requirement already satisfied: requests in /usr/local/lib/python3.10/dist-packages (from transformers==4.36.2) (2.31.0)\n",
            "Requirement already satisfied: tokenizers<0.19,>=0.14 in /usr/local/lib/python3.10/dist-packages (from transformers==4.36.2) (0.15.1)\n",
            "Requirement already satisfied: safetensors>=0.3.1 in /usr/local/lib/python3.10/dist-packages (from transformers==4.36.2) (0.4.2)\n",
            "Requirement already satisfied: tqdm>=4.27 in /usr/local/lib/python3.10/dist-packages (from transformers==4.36.2) (4.66.1)\n",
            "Requirement already satisfied: fsspec>=2023.5.0 in /usr/local/lib/python3.10/dist-packages (from huggingface-hub<1.0,>=0.19.3->transformers==4.36.2) (2023.6.0)\n",
            "Requirement already satisfied: typing-extensions>=3.7.4.3 in /usr/local/lib/python3.10/dist-packages (from huggingface-hub<1.0,>=0.19.3->transformers==4.36.2) (4.5.0)\n",
            "Requirement already satisfied: charset-normalizer<4,>=2 in /usr/local/lib/python3.10/dist-packages (from requests->transformers==4.36.2) (3.3.2)\n",
            "Requirement already satisfied: idna<4,>=2.5 in /usr/local/lib/python3.10/dist-packages (from requests->transformers==4.36.2) (3.6)\n",
            "Requirement already satisfied: urllib3<3,>=1.21.1 in /usr/local/lib/python3.10/dist-packages (from requests->transformers==4.36.2) (2.0.7)\n",
            "Requirement already satisfied: certifi>=2017.4.17 in /usr/local/lib/python3.10/dist-packages (from requests->transformers==4.36.2) (2023.11.17)\n",
            "data loaded!\n",
            "taille train set : 129533\n",
            "taille validation set : 259065\n",
            "taille test set : 2202050\n"
          ]
        },
        {
          "output_type": "stream",
          "name": "stderr",
          "text": [
            "If you want to use `CamembertLMHeadModel` as a standalone, add `is_decoder=True.`\n"
          ]
        },
        {
          "output_type": "stream",
          "name": "stdout",
          "text": [
            "training for 3 epochs...\n",
            "epoch : 1\n",
            "epoch : 2\n",
            "epoch : 3\n",
            "training completion in 0:28:43.466647\n",
            "training done.\n",
            "\n"
          ]
        },
        {
          "output_type": "display_data",
          "data": {
            "text/plain": [
              "<Figure size 640x480 with 1 Axes>"
            ],
            "image/png": "[encoded data removed]"
          },
          "metadata": {}
        }
      ]
    },
    {
      "cell_type": "code",
      "source": [
        "for _ in range(5):\n",
        "  print(f\"{generate_output()}\")"
      ],
      "metadata": {
        "id": "wpaA-juwN-7X",
        "colab": {
          "base_uri": "https://localhost:8080/"
        },
        "outputId": "3895046b-0e99-48ce-b132-9068ae4b770d"
      },
      "execution_count": 13,
      "outputs": [
        {
          "output_type": "stream",
          "name": "stdout",
          "text": [
            "dessert au  ne dans avec les une se a quez la deait et faites et de en et de sa le a se que la dans les\n",
            "dessert au  au ne la avec de pre et 2 enes lae de de ou d le avec de  beurre au nee et\n",
            "dessert au a et a de de puisr le deer este ae la et danss la cette a c\n",
            "dessert au e une le la sa sa de desees les comme lui la sur le on la de sur eta de de les ca de\n",
            "dessert au  tout sur a nous  et dans de sel le et sie et les et a a que de qu un lesa\n"
          ]
        }
      ]
    },
    {
      "cell_type": "code",
      "source": [
        "X = unidecode(X_txt)\n",
        "X = torch.tensor(list(map(ord, X)), dtype=torch.long)\n",
        "print(X[:10], len(X)), torch.any(X >= 128)"
      ],
      "metadata": {
        "id": "NJzj_5taOLre",
        "colab": {
          "base_uri": "https://localhost:8080/",
          "height": 212
        },
        "outputId": "a8171e83-84ca-49c3-ceea-1f4886bbf551"
      },
      "execution_count": 3,
      "outputs": [
        {
          "output_type": "error",
          "ename": "NameError",
          "evalue": "name 'torch' is not defined",
          "traceback": [
            "\u001b[0;31m---------------------------------------------------------------------------\u001b[0m",
            "\u001b[0;31mNameError\u001b[0m                                 Traceback (most recent call last)",
            "\u001b[0;32m<ipython-input-3-89260ef3106a>\u001b[0m in \u001b[0;36m<cell line: 2>\u001b[0;34m()\u001b[0m\n\u001b[1;32m      1\u001b[0m \u001b[0mX\u001b[0m \u001b[0;34m=\u001b[0m \u001b[0munidecode\u001b[0m\u001b[0;34m(\u001b[0m\u001b[0mX_txt\u001b[0m\u001b[0;34m)\u001b[0m\u001b[0;34m\u001b[0m\u001b[0;34m\u001b[0m\u001b[0m\n\u001b[0;32m----> 2\u001b[0;31m \u001b[0mX\u001b[0m \u001b[0;34m=\u001b[0m \u001b[0mtorch\u001b[0m\u001b[0;34m.\u001b[0m\u001b[0mtensor\u001b[0m\u001b[0;34m(\u001b[0m\u001b[0mlist\u001b[0m\u001b[0;34m(\u001b[0m\u001b[0mmap\u001b[0m\u001b[0;34m(\u001b[0m\u001b[0mord\u001b[0m\u001b[0;34m,\u001b[0m \u001b[0mX\u001b[0m\u001b[0;34m)\u001b[0m\u001b[0;34m)\u001b[0m\u001b[0;34m,\u001b[0m \u001b[0mdtype\u001b[0m\u001b[0;34m=\u001b[0m\u001b[0mtorch\u001b[0m\u001b[0;34m.\u001b[0m\u001b[0mlong\u001b[0m\u001b[0;34m)\u001b[0m\u001b[0;34m\u001b[0m\u001b[0;34m\u001b[0m\u001b[0m\n\u001b[0m\u001b[1;32m      3\u001b[0m \u001b[0mprint\u001b[0m\u001b[0;34m(\u001b[0m\u001b[0mX\u001b[0m\u001b[0;34m[\u001b[0m\u001b[0;34m:\u001b[0m\u001b[0;36m10\u001b[0m\u001b[0;34m]\u001b[0m\u001b[0;34m,\u001b[0m \u001b[0mlen\u001b[0m\u001b[0;34m(\u001b[0m\u001b[0mX\u001b[0m\u001b[0;34m)\u001b[0m\u001b[0;34m)\u001b[0m\u001b[0;34m,\u001b[0m \u001b[0mtorch\u001b[0m\u001b[0;34m.\u001b[0m\u001b[0many\u001b[0m\u001b[0;34m(\u001b[0m\u001b[0mX\u001b[0m \u001b[0;34m>=\u001b[0m \u001b[0;36m128\u001b[0m\u001b[0;34m)\u001b[0m\u001b[0;34m\u001b[0m\u001b[0;34m\u001b[0m\u001b[0m\n",
            "\u001b[0;31mNameError\u001b[0m: name 'torch' is not defined"
          ]
        }
      ]
    },
    {
      "cell_type": "code",
      "source": [
        "# we don't define a testset. The model is wayyy too trivial to overfit."
      ],
      "metadata": {
        "id": "WguHOQ1qOjGn"
      },
      "execution_count": null,
      "outputs": []
    },
    {
      "cell_type": "code",
      "source": [
        "class Concat(nn.Module):\n",
        "    def forward(self, x):\n",
        "        return x.view(x.shape[0], -1)\n",
        "\n",
        "def make_nn(input_features, context_size, hidden_features, output_features):\n",
        "    return nn.Sequential(\n",
        "        nn.Embedding(128, input_features),\n",
        "        Concat(),\n",
        "        nn.Linear(input_features * context_size, hidden_features),\n",
        "        nn.ReLU(),\n",
        "        nn.Linear(hidden_features, hidden_features),\n",
        "        nn.ReLU(),\n",
        "        nn.Linear(hidden_features, hidden_features),\n",
        "        nn.ReLU(),\n",
        "        nn.Linear(hidden_features, output_features)\n",
        "    )\n",
        "\n",
        "batch_size=512\n",
        "context_size=8\n",
        "device='cuda'\n",
        "m = make_nn(32, context_size, 512, 128).to(device)\n",
        "\n",
        "loss_fn = nn.CrossEntropyLoss()\n",
        "\n",
        "opt = torch.optim.AdamW(m.parameters(), lr=3e-4, weight_decay=0.01)\n",
        "losses = []\n",
        "for epoch in range(500):\n",
        "\n",
        "    with torch.no_grad():\n",
        "      print('----')\n",
        "      for num_completions in range(5):\n",
        "          s = \"\\nAujourd'hui\"[:context_size]\n",
        "          for txt_len in range(64):\n",
        "              as_tensor = torch.tensor(list(map(ord, s[-context_size:]))).cuda()\n",
        "              logits = m(as_tensor.unsqueeze(0))\n",
        "              probs = torch.softmax(logits, dim=1)\n",
        "              new = torch.multinomial(probs, num_samples=1)\n",
        "              s += chr(new.item())\n",
        "              del as_tensor\n",
        "          print(repr(s))\n",
        "\n",
        "    # we train here\n",
        "    train_error = 0\n",
        "    for _ in range(1000):\n",
        "        letters = torch.stack([\n",
        "            X[rnd : rnd + context_size + 1]\n",
        "            for rnd in torch.randint(0, len(X) - context_size - 1, (batch_size,))\n",
        "        ]).to(device)\n",
        "        x = letters[:, :-1]\n",
        "        y = letters[:, -1]\n",
        "\n",
        "        opt.zero_grad()\n",
        "        pred = m(x) # [batch, in_features] => [batch, out_features]\n",
        "        loss = loss_fn(pred, y)\n",
        "        loss.backward()\n",
        "        train_error += loss.item()\n",
        "        opt.step()\n",
        "    print((epoch+1)*context_size*batch_size, 'k chars | train', train_error / 1000/batch_size)\n",
        "    losses.append(train_error/1000/batch_size)\n",
        "\n",
        "    # We test here"
      ],
      "metadata": {
        "id": "PdH4dj7QPQjx"
      },
      "execution_count": null,
      "outputs": []
    },
    {
      "cell_type": "code",
      "source": [
        "plt.plot([l for l in losses])\n",
        "plt.show()"
      ],
      "metadata": {
        "id": "RSDHUfggYhok"
      },
      "execution_count": null,
      "outputs": []
    },
    {
      "cell_type": "code",
      "source": [],
      "metadata": {
        "id": "2Zdhil9ZXZa6"
      },
      "execution_count": null,
      "outputs": []
    }
  ]
}